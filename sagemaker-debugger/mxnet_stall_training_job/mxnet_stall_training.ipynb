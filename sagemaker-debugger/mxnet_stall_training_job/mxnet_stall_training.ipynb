{
 "cells": [
  {
   "cell_type": "code",
   "execution_count": 1,
   "metadata": {},
   "outputs": [],
   "source": [
    "import sagemaker\n",
    "from sagemaker.mxnet import MXNet\n",
    "from sagemaker.debugger import DebuggerHookConfig, CollectionConfig\n",
    "import boto3\n",
    "import os\n",
    "\n",
    "sagemaker_session = sagemaker.Session()\n",
    "BUCKET_NAME = sagemaker_session.default_bucket()\n",
    "LOCATION_IN_BUCKET = 'smdebug-mnist-tensor-analysis'\n",
    "\n",
    "s3_bucket_for_tensors = 's3://{BUCKET_NAME}/{LOCATION_IN_BUCKET}'.format(BUCKET_NAME=BUCKET_NAME, LOCATION_IN_BUCKET=LOCATION_IN_BUCKET)\n",
    "estimator = MXNet(role=sagemaker.get_execution_role(),\n",
    "                  base_job_name='mxnet',\n",
    "                  train_instance_count=1,\n",
    "                  train_instance_type='ml.m5.xlarge',\n",
    "                  train_volume_size=400,\n",
    "                  entry_point='mnist.py',\n",
    "                  framework_version='1.6.0',\n",
    "                  py_version='py3',\n",
    "                  debugger_hook_config = DebuggerHookConfig(\n",
    "                      s3_output_path=s3_bucket_for_tensors,  \n",
    "                      collection_configs=[\n",
    "                        CollectionConfig(\n",
    "                            name=\"all\",\n",
    "                            parameters={\n",
    "                                \"include_regex\": \".*\",\n",
    "                                \"save_interval\": \"100\"\n",
    "                            }\n",
    "                        )\n",
    "                     ]\n",
    "                   )\n",
    "                )"
   ]
  },
  {
   "cell_type": "code",
   "execution_count": 2,
   "metadata": {},
   "outputs": [],
   "source": [
    "estimator.fit(wait=False)"
   ]
  },
  {
   "cell_type": "code",
   "execution_count": 3,
   "metadata": {},
   "outputs": [],
   "source": [
    "job_name = estimator.latest_training_job.name\n",
    "client = estimator.sagemaker_session.sagemaker_client\n",
    "description = client.describe_training_job(TrainingJobName=job_name)"
   ]
  },
  {
   "cell_type": "code",
   "execution_count": 4,
   "metadata": {},
   "outputs": [
    {
     "name": "stdout",
     "output_type": "stream",
     "text": [
      "Tensors are stored in:  s3://sagemaker-us-west-2-283429445338/smdebug-mnist-tensor-analysis/mxnet-2020-02-19-18-50-08-845/debug-output\n"
     ]
    }
   ],
   "source": [
    "path = estimator.latest_job_debugger_artifacts_path()\n",
    "print('Tensors are stored in: ', path)"
   ]
  },
  {
   "cell_type": "code",
   "execution_count": 5,
   "metadata": {},
   "outputs": [
    {
     "name": "stdout",
     "output_type": "stream",
     "text": [
      "Training job name: mxnet-2020-02-19-18-50-08-845\n"
     ]
    }
   ],
   "source": [
    "job_name = estimator.latest_training_job.name\n",
    "print('Training job name: {}'.format(job_name))\n",
    "\n",
    "client = estimator.sagemaker_session.sagemaker_client\n",
    "\n",
    "description = client.describe_training_job(TrainingJobName=job_name)"
   ]
  },
  {
   "cell_type": "code",
   "execution_count": 6,
   "metadata": {},
   "outputs": [],
   "source": [
    "import time\n",
    "import numpy as np\n",
    "\n",
    "def check_step_duration(trial):\n",
    "    \n",
    "    loaded_all_steps = False\n",
    "    last_step = None\n",
    "    start = time.time()\n",
    "    step_durations = []\n",
    "    \n",
    "    while not loaded_all_steps:\n",
    "        \n",
    "        loaded_all_steps = trial.loaded_all_steps\n",
    "        step = trial.steps()[-1]\n",
    "        step_duration = time.time() - start\n",
    "        \n",
    "        if last_step != step:\n",
    "            print(\"Time for step\", step, \"to become available\", step_duration)\n",
    "            last_step = step\n",
    "            start = time.time()\n",
    "            step_durations.append(step_duration) \n",
    "            \n",
    "        elif len(step_durations) > 3 and step_duration > np.mean(step_durations) * 3:\n",
    "            print(\"Time for step\", step, \"to become available taking too long. Stop the training job.\")\n",
    "            break\n",
    "            \n",
    "    return step_durations"
   ]
  },
  {
   "cell_type": "code",
   "execution_count": 7,
   "metadata": {},
   "outputs": [
    {
     "name": "stdout",
     "output_type": "stream",
     "text": [
      "Current job status: [PrimaryStatus: InProgress, SecondaryStatus: Starting]\n",
      "Current job status: [PrimaryStatus: InProgress, SecondaryStatus: Starting]\n",
      "Current job status: [PrimaryStatus: InProgress, SecondaryStatus: Starting]\n",
      "Current job status: [PrimaryStatus: InProgress, SecondaryStatus: Starting]\n",
      "Current job status: [PrimaryStatus: InProgress, SecondaryStatus: Starting]\n",
      "Current job status: [PrimaryStatus: InProgress, SecondaryStatus: Starting]\n",
      "Current job status: [PrimaryStatus: InProgress, SecondaryStatus: Starting]\n",
      "Current job status: [PrimaryStatus: InProgress, SecondaryStatus: Starting]\n",
      "Current job status: [PrimaryStatus: InProgress, SecondaryStatus: Downloading]\n",
      "Current job status: [PrimaryStatus: InProgress, SecondaryStatus: Training]\n",
      "[2020-02-19 18:52:40.200 ip-172-16-21-52:20080 INFO s3_trial.py:42] Loading trial debug-output at path s3://sagemaker-us-west-2-283429445338/smdebug-mnist-tensor-analysis/mxnet-2020-02-19-18-50-08-845/debug-output\n",
      "Time for step 0 to become available 0.024674654006958008\n",
      "Time for step 100 to become available 0.3362300395965576\n",
      "Time for step 200 to become available 2.498378276824951\n",
      "Time for step 300 to become available 2.9359874725341797\n",
      "Time for step 400 to become available 2.6955525875091553\n",
      "Time for step 500 to become available 2.879660129547119\n",
      "Time for step 600 to become available 2.706967353820801\n",
      "Time for step 700 to become available 2.4398365020751953\n",
      "Time for step 800 to become available 2.7820334434509277\n",
      "Time for step 900 to become available 2.7478785514831543\n",
      "Time for step 1000 to become available 2.7505669593811035\n",
      "Time for step 1100 to become available 2.7969470024108887\n",
      "Time for step 1200 to become available 2.705899477005005\n",
      "Time for step 1300 to become available 2.517880439758301\n",
      "Time for step 1400 to become available 2.7887446880340576\n",
      "Time for step 1500 to become available 2.678821086883545\n",
      "Time for step 1600 to become available 2.5997865200042725\n",
      "Time for step 1700 to become available 2.786803960800171\n",
      "Time for step 1800 to become available 2.740396738052368\n",
      "Time for step 1900 to become available 2.7450735569000244\n",
      "Time for step 2000 to become available 2.8110156059265137\n",
      "Time for step 2100 to become available 2.5534162521362305\n",
      "Time for step 2200 to become available 2.6987509727478027\n",
      "Time for step 2300 to become available 2.799405574798584\n",
      "Time for step 2400 to become available 2.726783275604248\n",
      "Time for step 2500 to become available 2.6429998874664307\n",
      "Time for step 2600 to become available 2.741804599761963\n",
      "Time for step 2700 to become available 2.7102861404418945\n",
      "Time for step 2800 to become available 2.478850841522217\n",
      "Time for step 2900 to become available 2.7949378490448\n",
      "Time for step 3000 to become available 2.7794697284698486\n",
      "Time for step 3100 to become available 2.7455995082855225\n",
      "Time for step 3200 to become available 2.928175449371338\n",
      "Time for step 3300 to become available 2.6200873851776123\n",
      "Time for step 3400 to become available 2.7516226768493652\n",
      "Time for step 3500 to become available 2.8138303756713867\n",
      "Time for step 3600 to become available 2.813288927078247\n",
      "Time for step 3700 to become available 2.4702694416046143\n",
      "Time for step 3800 to become available 2.806307077407837\n",
      "Time for step 3900 to become available 2.8032186031341553\n",
      "Time for step 4000 to become available 2.4432992935180664\n",
      "Time for step 4100 to become available 2.8478097915649414\n",
      "Time for step 4200 to become available 2.700423002243042\n",
      "Time for step 4300 to become available 2.782482862472534\n",
      "Time for step 4400 to become available 2.4993395805358887\n",
      "Time for step 4500 to become available 2.7015862464904785\n",
      "Time for step 4600 to become available 2.735548973083496\n",
      "Time for step 4700 to become available 2.7537331581115723\n",
      "Time for step 4800 to become available 2.4646668434143066\n",
      "Time for step 4900 to become available 2.7020785808563232\n",
      "Time for step 5000 to become available 2.7695610523223877\n",
      "Time for step 5100 to become available 2.6390411853790283\n",
      "Time for step 5200 to become available 2.6489837169647217\n",
      "Time for step 5300 to become available 2.8275794982910156\n",
      "Time for step 5400 to become available 2.5392754077911377\n",
      "Time for step 5500 to become available 2.7441165447235107\n",
      "Time for step 5600 to become available 2.645872116088867\n",
      "Time for step 5700 to become available 2.6615521907806396\n",
      "Time for step 5800 to become available 2.754465341567993\n",
      "Time for step 5900 to become available 2.8166422843933105\n",
      "Time for step 6000 to become available 2.5669660568237305\n",
      "Time for step 6100 to become available 2.6256842613220215\n",
      "Time for step 6200 to become available 2.508500576019287\n",
      "Time for step 6300 to become available 2.8111958503723145\n",
      "Time for step 6400 to become available 2.7917356491088867\n",
      "Time for step 6500 to become available 2.5549380779266357\n",
      "Time for step 6600 to become available 2.784322500228882\n",
      "Time for step 6700 to become available 2.4816153049468994\n",
      "Time for step 6800 to become available 2.821190357208252\n",
      "Time for step 6900 to become available 2.8593063354492188\n",
      "Time for step 7000 to become available 2.5185670852661133\n",
      "Time for step 7100 to become available 2.692805767059326\n",
      "Time for step 7200 to become available 2.6118404865264893\n",
      "Time for step 7300 to become available 2.6700782775878906\n",
      "Time for step 7400 to become available 2.5841245651245117\n",
      "Time for step 7500 to become available 2.751052141189575\n",
      "Time for step 7600 to become available 2.796992301940918\n",
      "Time for step 7700 to become available 2.785585403442383\n",
      "Time for step 7800 to become available 2.6453845500946045\n",
      "Time for step 7900 to become available 2.7467620372772217\n",
      "Time for step 8000 to become available 2.487335443496704\n",
      "Time for step 8100 to become available 2.8593931198120117\n",
      "Time for step 8200 to become available 2.551504611968994\n",
      "Time for step 8300 to become available 2.7316224575042725\n",
      "Time for step 8400 to become available 2.538475275039673\n",
      "Time for step 8500 to become available 2.797712802886963\n",
      "Time for step 8600 to become available 2.552093744277954\n",
      "Time for step 8700 to become available 2.5338783264160156\n",
      "Time for step 8800 to become available 2.8850791454315186\n",
      "Time for step 8900 to become available 2.5508077144622803\n",
      "Time for step 9000 to become available 2.768394947052002\n",
      "Time for step 9100 to become available 2.7769112586975098\n",
      "Time for step 9200 to become available 2.5175836086273193\n",
      "Time for step 9300 to become available 2.747142791748047\n",
      "Time for step 9400 to become available 2.7943310737609863\n",
      "Time for step 9500 to become available 2.538635730743408\n",
      "Time for step 9600 to become available 3.6495044231414795\n",
      "Time for step 9700 to become available 1.6706292629241943\n",
      "Time for step 9800 to become available 2.747468948364258\n",
      "Time for step 9900 to become available 2.5205676555633545\n",
      "Time for step 10000 to become available 2.7823941707611084\n",
      "Time for step 10100 to become available 2.5795786380767822\n",
      "Time for step 10200 to become available 2.941659927368164\n",
      "Time for step 10300 to become available 2.5110762119293213\n",
      "Time for step 10400 to become available 2.5139613151550293\n",
      "Time for step 10500 to become available 2.8323891162872314\n",
      "Time for step 10600 to become available 2.4379501342773438\n",
      "Time for step 10700 to become available 2.7772512435913086\n",
      "Time for step 10800 to become available 2.516494035720825\n",
      "Time for step 10900 to become available 2.7791857719421387\n",
      "Time for step 11000 to become available 2.545079231262207\n",
      "Time for step 11100 to become available 2.7159218788146973\n",
      "Time for step 11200 to become available 2.7584145069122314\n",
      "Time for step 11300 to become available 2.8359837532043457\n",
      "Time for step 11400 to become available 2.4509999752044678\n",
      "Time for step 11500 to become available 2.5078647136688232\n",
      "Time for step 11600 to become available 2.7790355682373047\n",
      "Time for step 11700 to become available 2.82189679145813\n",
      "Time for step 11800 to become available 2.4675252437591553\n",
      "Time for step 11900 to become available 2.7526097297668457\n",
      "Time for step 12000 to become available 2.7928364276885986\n",
      "Time for step 12100 to become available 2.711974620819092\n",
      "Time for step 12200 to become available 2.4502060413360596\n",
      "Time for step 12300 to become available 2.8065848350524902\n",
      "Time for step 12400 to become available 2.4782607555389404\n",
      "Time for step 12500 to become available 2.773836374282837\n",
      "Time for step 12600 to become available 2.7656099796295166\n",
      "Time for step 12700 to become available 2.5203168392181396\n",
      "Time for step 12800 to become available 2.8412959575653076\n",
      "Time for step 12900 to become available 2.4738664627075195\n",
      "Time for step 13000 to become available 2.655393362045288\n",
      "Time for step 13100 to become available 2.7338335514068604\n",
      "Time for step 13200 to become available 2.8200860023498535\n",
      "Time for step 13300 to become available 2.4992454051971436\n",
      "Time for step 13400 to become available 2.764267921447754\n",
      "Time for step 13500 to become available 2.661855936050415\n",
      "Time for step 13600 to become available 2.7419729232788086\n",
      "Time for step 13700 to become available 2.7364680767059326\n",
      "Time for step 13800 to become available 2.5142908096313477\n",
      "Time for step 13900 to become available 2.8517062664031982\n",
      "Time for step 14000 to become available 2.4534735679626465\n",
      "Time for step 14000 to become available taking too long. Stop the training job.\n"
     ]
    }
   ],
   "source": [
    "import time\n",
    "from smdebug.trials import create_trial\n",
    "\n",
    "if description['TrainingJobStatus'] != 'Completed':\n",
    "    while description['SecondaryStatus'] not in {'Training', 'Completed'}:\n",
    "        description = client.describe_training_job(TrainingJobName=job_name)\n",
    "        primary_status = description['TrainingJobStatus']\n",
    "        secondary_status = description['SecondaryStatus']\n",
    "        print('Current job status: [PrimaryStatus: {}, SecondaryStatus: {}]'.format(primary_status, secondary_status))\n",
    "        time.sleep(15)\n",
    "        \n",
    "trial = create_trial(path)\n",
    "\n",
    "step_durations = check_step_duration(trial)"
   ]
  },
  {
   "cell_type": "code",
   "execution_count": 9,
   "metadata": {},
   "outputs": [
    {
     "name": "stdout",
     "output_type": "stream",
     "text": [
      "[2020-02-19 18:59:11.343 ip-172-16-21-52:20080 INFO trial.py:198] Training has ended, will refresh one final time in 1 sec.\n",
      "[2020-02-19 18:59:12.371 ip-172-16-21-52:20080 INFO trial.py:210] Loaded all steps\n"
     ]
    },
    {
     "data": {
      "image/png": "[encoded data removed]",
      "text/plain": [
       "<Figure size 432x288 with 1 Axes>"
      ]
     },
     "metadata": {},
     "output_type": "display_data"
    }
   ],
   "source": [
    "import matplotlib.pyplot as plt\n",
    "import numpy as np\n",
    "\n",
    "plt.title('Duration to retrieve tensors for corresponding step')\n",
    "plt.xlabel('Step')\n",
    "plt.ylabel('Duration in [s]')\n",
    "plt.scatter(trial.steps(), step_durations, s=2)\n",
    "plt.show()"
   ]
  },
  {
   "cell_type": "code",
   "execution_count": null,
   "metadata": {},
   "outputs": [],
   "source": []
  }
 ],
 "metadata": {
  "kernelspec": {
   "display_name": "conda_mxnet_p36",
   "language": "python",
   "name": "conda_mxnet_p36"
  },
  "language_info": {
   "codemirror_mode": {
    "name": "ipython",
    "version": 3
   },
   "file_extension": ".py",
   "mimetype": "text/x-python",
   "name": "python",
   "nbconvert_exporter": "python",
   "pygments_lexer": "ipython3",
   "version": "3.6.5"
  }
 },
 "nbformat": 4,
 "nbformat_minor": 2
}
